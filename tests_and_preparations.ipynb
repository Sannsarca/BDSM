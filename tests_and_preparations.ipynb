{
 "cells": [
  {
   "cell_type": "markdown",
   "id": "ac6a965a",
   "metadata": {},
   "source": [
    "### Loading Data "
   ]
  },
  {
   "cell_type": "code",
   "execution_count": 343,
   "id": "f12a82cf",
   "metadata": {},
   "outputs": [
    {
     "data": {
      "text/html": [
       "<div>\n",
       "<style scoped>\n",
       "    .dataframe tbody tr th:only-of-type {\n",
       "        vertical-align: middle;\n",
       "    }\n",
       "\n",
       "    .dataframe tbody tr th {\n",
       "        vertical-align: top;\n",
       "    }\n",
       "\n",
       "    .dataframe thead th {\n",
       "        text-align: right;\n",
       "    }\n",
       "</style>\n",
       "<table border=\"1\" class=\"dataframe\">\n",
       "  <thead>\n",
       "    <tr style=\"text-align: right;\">\n",
       "      <th></th>\n",
       "      <th>Partner</th>\n",
       "      <th>Link for whatsapp</th>\n",
       "      <th>Brand</th>\n",
       "      <th>Model</th>\n",
       "      <th>full price of car, euro</th>\n",
       "      <th>if 1-3 days\\ euro per day</th>\n",
       "      <th>if 4-6 days\\ euro per day</th>\n",
       "      <th>if 7-9 days\\ euro per day</th>\n",
       "      <th>if 10-12 days\\ euro per day</th>\n",
       "      <th>if 13-15 days\\ euro per day</th>\n",
       "      <th>...</th>\n",
       "      <th>if 24-31 days\\ euro per day</th>\n",
       "      <th>Additional info about car</th>\n",
       "      <th>Locations</th>\n",
       "      <th>Contact person</th>\n",
       "      <th>link</th>\n",
       "      <th>Fleet</th>\n",
       "      <th>Company details</th>\n",
       "      <th>Reiting of trusting</th>\n",
       "      <th>Reiting of speed</th>\n",
       "      <th>Reiting of quality of servise</th>\n",
       "    </tr>\n",
       "  </thead>\n",
       "  <tbody>\n",
       "    <tr>\n",
       "      <th>0</th>\n",
       "      <td>Mr Good1</td>\n",
       "      <td>NaN</td>\n",
       "      <td>Range Rover</td>\n",
       "      <td>Vogue (new)</td>\n",
       "      <td>120000.0</td>\n",
       "      <td>600</td>\n",
       "      <td>558.00</td>\n",
       "      <td>516.0</td>\n",
       "      <td>486.00</td>\n",
       "      <td>450.00</td>\n",
       "      <td>...</td>\n",
       "      <td>288.0</td>\n",
       "      <td>NaN</td>\n",
       "      <td>Marbella, Spain</td>\n",
       "      <td>~mr.GOOD1</td>\n",
       "      <td>http://www.mrgood1.com</td>\n",
       "      <td>Range Rover vogue new\\n RANGE rover vogue olde...</td>\n",
       "      <td>Jogailos g. 7, 01116 Vilnius, Lithuania</td>\n",
       "      <td>1.75</td>\n",
       "      <td>1.75</td>\n",
       "      <td>1.5</td>\n",
       "    </tr>\n",
       "    <tr>\n",
       "      <th>1</th>\n",
       "      <td>Mr Good1</td>\n",
       "      <td>NaN</td>\n",
       "      <td>Range Rover</td>\n",
       "      <td>Vogue (older)</td>\n",
       "      <td>120000.0</td>\n",
       "      <td>600</td>\n",
       "      <td>558.00</td>\n",
       "      <td>516.0</td>\n",
       "      <td>486.00</td>\n",
       "      <td>450.00</td>\n",
       "      <td>...</td>\n",
       "      <td>288.0</td>\n",
       "      <td>NaN</td>\n",
       "      <td>Marbella, Spain</td>\n",
       "      <td>~mr.GOOD1</td>\n",
       "      <td>http://www.mrgood1.com</td>\n",
       "      <td>Range Rover vogue new\\n RANGE rover vogue olde...</td>\n",
       "      <td>Jogailos g. 7, 01116 Vilnius, Lithuania</td>\n",
       "      <td>1.75</td>\n",
       "      <td>1.75</td>\n",
       "      <td>1.5</td>\n",
       "    </tr>\n",
       "    <tr>\n",
       "      <th>2</th>\n",
       "      <td>Mr Good1</td>\n",
       "      <td>NaN</td>\n",
       "      <td>Audi</td>\n",
       "      <td>RS3</td>\n",
       "      <td>75000.0</td>\n",
       "      <td>375</td>\n",
       "      <td>348.75</td>\n",
       "      <td>322.5</td>\n",
       "      <td>303.75</td>\n",
       "      <td>281.25</td>\n",
       "      <td>...</td>\n",
       "      <td>180.0</td>\n",
       "      <td>NaN</td>\n",
       "      <td>Marbella, Spain</td>\n",
       "      <td>~mr.GOOD1</td>\n",
       "      <td>http://www.mrgood1.com</td>\n",
       "      <td>Range Rover vogue new\\n RANGE rover vogue olde...</td>\n",
       "      <td>Jogailos g. 7, 01116 Vilnius, Lithuania</td>\n",
       "      <td>1.75</td>\n",
       "      <td>1.75</td>\n",
       "      <td>1.5</td>\n",
       "    </tr>\n",
       "    <tr>\n",
       "      <th>3</th>\n",
       "      <td>Mr Good1</td>\n",
       "      <td>NaN</td>\n",
       "      <td>Audi</td>\n",
       "      <td>RS6</td>\n",
       "      <td>173000.0</td>\n",
       "      <td>865</td>\n",
       "      <td>804.45</td>\n",
       "      <td>743.9</td>\n",
       "      <td>700.65</td>\n",
       "      <td>648.75</td>\n",
       "      <td>...</td>\n",
       "      <td>415.2</td>\n",
       "      <td>NaN</td>\n",
       "      <td>Marbella, Spain</td>\n",
       "      <td>~mr.GOOD1</td>\n",
       "      <td>http://www.mrgood1.com</td>\n",
       "      <td>Range Rover vogue new\\n RANGE rover vogue olde...</td>\n",
       "      <td>Jogailos g. 7, 01116 Vilnius, Lithuania</td>\n",
       "      <td>1.75</td>\n",
       "      <td>1.75</td>\n",
       "      <td>1.5</td>\n",
       "    </tr>\n",
       "    <tr>\n",
       "      <th>4</th>\n",
       "      <td>Mr Good1</td>\n",
       "      <td>NaN</td>\n",
       "      <td>Mercedes</td>\n",
       "      <td>E Convertible</td>\n",
       "      <td>110000.0</td>\n",
       "      <td>550</td>\n",
       "      <td>511.50</td>\n",
       "      <td>473.0</td>\n",
       "      <td>445.50</td>\n",
       "      <td>412.50</td>\n",
       "      <td>...</td>\n",
       "      <td>264.0</td>\n",
       "      <td>NaN</td>\n",
       "      <td>Marbella, Spain</td>\n",
       "      <td>~mr.GOOD1</td>\n",
       "      <td>http://www.mrgood1.com</td>\n",
       "      <td>Range Rover vogue new\\n RANGE rover vogue olde...</td>\n",
       "      <td>Jogailos g. 7, 01116 Vilnius, Lithuania</td>\n",
       "      <td>1.75</td>\n",
       "      <td>1.75</td>\n",
       "      <td>1.5</td>\n",
       "    </tr>\n",
       "  </tbody>\n",
       "</table>\n",
       "<p>5 rows × 22 columns</p>\n",
       "</div>"
      ],
      "text/plain": [
       "    Partner  Link for whatsapp        Brand          Model   \n",
       "0  Mr Good1                NaN  Range Rover    Vogue (new)  \\\n",
       "1  Mr Good1                NaN  Range Rover  Vogue (older)   \n",
       "2  Mr Good1                NaN         Audi            RS3   \n",
       "3  Mr Good1                NaN         Audi            RS6   \n",
       "4  Mr Good1                NaN     Mercedes  E Convertible   \n",
       "\n",
       "   full price of car, euro  if 1-3 days\\ euro per day   \n",
       "0                 120000.0                        600  \\\n",
       "1                 120000.0                        600   \n",
       "2                  75000.0                        375   \n",
       "3                 173000.0                        865   \n",
       "4                 110000.0                        550   \n",
       "\n",
       "   if 4-6 days\\ euro per day  if 7-9 days\\ euro per day   \n",
       "0                     558.00                      516.0  \\\n",
       "1                     558.00                      516.0   \n",
       "2                     348.75                      322.5   \n",
       "3                     804.45                      743.9   \n",
       "4                     511.50                      473.0   \n",
       "\n",
       "   if 10-12 days\\ euro per day  if 13-15 days\\ euro per day  ...   \n",
       "0                       486.00                       450.00  ...  \\\n",
       "1                       486.00                       450.00  ...   \n",
       "2                       303.75                       281.25  ...   \n",
       "3                       700.65                       648.75  ...   \n",
       "4                       445.50                       412.50  ...   \n",
       "\n",
       "   if 24-31 days\\ euro per day  Additional info about car        Locations   \n",
       "0                        288.0                        NaN  Marbella, Spain  \\\n",
       "1                        288.0                        NaN  Marbella, Spain   \n",
       "2                        180.0                        NaN  Marbella, Spain   \n",
       "3                        415.2                        NaN  Marbella, Spain   \n",
       "4                        264.0                        NaN  Marbella, Spain   \n",
       "\n",
       "   Contact person                    link   \n",
       "0       ~mr.GOOD1  http://www.mrgood1.com  \\\n",
       "1       ~mr.GOOD1  http://www.mrgood1.com   \n",
       "2       ~mr.GOOD1  http://www.mrgood1.com   \n",
       "3       ~mr.GOOD1  http://www.mrgood1.com   \n",
       "4       ~mr.GOOD1  http://www.mrgood1.com   \n",
       "\n",
       "                                               Fleet   \n",
       "0  Range Rover vogue new\\n RANGE rover vogue olde...  \\\n",
       "1  Range Rover vogue new\\n RANGE rover vogue olde...   \n",
       "2  Range Rover vogue new\\n RANGE rover vogue olde...   \n",
       "3  Range Rover vogue new\\n RANGE rover vogue olde...   \n",
       "4  Range Rover vogue new\\n RANGE rover vogue olde...   \n",
       "\n",
       "                           Company details Reiting of trusting   \n",
       "0  Jogailos g. 7, 01116 Vilnius, Lithuania                1.75  \\\n",
       "1  Jogailos g. 7, 01116 Vilnius, Lithuania                1.75   \n",
       "2  Jogailos g. 7, 01116 Vilnius, Lithuania                1.75   \n",
       "3  Jogailos g. 7, 01116 Vilnius, Lithuania                1.75   \n",
       "4  Jogailos g. 7, 01116 Vilnius, Lithuania                1.75   \n",
       "\n",
       "  Reiting of speed  Reiting of quality of servise  \n",
       "0             1.75                            1.5  \n",
       "1             1.75                            1.5  \n",
       "2             1.75                            1.5  \n",
       "3             1.75                            1.5  \n",
       "4             1.75                            1.5  \n",
       "\n",
       "[5 rows x 22 columns]"
      ]
     },
     "execution_count": 343,
     "metadata": {},
     "output_type": "execute_result"
    }
   ],
   "source": [
    "import pandas as pd\n",
    "from llama_index.core import VectorStoreIndex, SimpleDirectoryReader, Document\n",
    "#Step 1: Load car data from CSV\n",
    "df = pd.read_excel('merged_data_test_task.xlsx')\n",
    "\n",
    "#Display the first 5 rows of the dataframe\n",
    "df.head(5)"
   ]
  },
  {
   "cell_type": "code",
   "execution_count": 344,
   "id": "d021816c",
   "metadata": {},
   "outputs": [
    {
     "data": {
      "text/html": [
       "<div>\n",
       "<style scoped>\n",
       "    .dataframe tbody tr th:only-of-type {\n",
       "        vertical-align: middle;\n",
       "    }\n",
       "\n",
       "    .dataframe tbody tr th {\n",
       "        vertical-align: top;\n",
       "    }\n",
       "\n",
       "    .dataframe thead th {\n",
       "        text-align: right;\n",
       "    }\n",
       "</style>\n",
       "<table border=\"1\" class=\"dataframe\">\n",
       "  <thead>\n",
       "    <tr style=\"text-align: right;\">\n",
       "      <th></th>\n",
       "      <th>Link for whatsapp</th>\n",
       "      <th>full price of car, euro</th>\n",
       "      <th>if 1-3 days\\ euro per day</th>\n",
       "      <th>if 4-6 days\\ euro per day</th>\n",
       "      <th>if 7-9 days\\ euro per day</th>\n",
       "      <th>if 10-12 days\\ euro per day</th>\n",
       "      <th>if 13-15 days\\ euro per day</th>\n",
       "      <th>if 16-18 days\\ euro per day</th>\n",
       "      <th>if 19-23 days \\ euro per day</th>\n",
       "      <th>if 24-31 days\\ euro per day</th>\n",
       "      <th>Additional info about car</th>\n",
       "      <th>Reiting of trusting</th>\n",
       "      <th>Reiting of speed</th>\n",
       "      <th>Reiting of quality of servise</th>\n",
       "    </tr>\n",
       "  </thead>\n",
       "  <tbody>\n",
       "    <tr>\n",
       "      <th>count</th>\n",
       "      <td>0.0</td>\n",
       "      <td>1.755000e+03</td>\n",
       "      <td>1756.000000</td>\n",
       "      <td>1756.000000</td>\n",
       "      <td>1756.000000</td>\n",
       "      <td>1756.000000</td>\n",
       "      <td>1756.000000</td>\n",
       "      <td>1756.000000</td>\n",
       "      <td>1756.000000</td>\n",
       "      <td>1756.000000</td>\n",
       "      <td>0.0</td>\n",
       "      <td>114.000000</td>\n",
       "      <td>114.000000</td>\n",
       "      <td>114.000000</td>\n",
       "    </tr>\n",
       "    <tr>\n",
       "      <th>mean</th>\n",
       "      <td>NaN</td>\n",
       "      <td>1.753021e+05</td>\n",
       "      <td>876.011390</td>\n",
       "      <td>814.690592</td>\n",
       "      <td>753.369795</td>\n",
       "      <td>709.569226</td>\n",
       "      <td>657.008542</td>\n",
       "      <td>543.127062</td>\n",
       "      <td>499.326492</td>\n",
       "      <td>420.485467</td>\n",
       "      <td>NaN</td>\n",
       "      <td>1.563596</td>\n",
       "      <td>2.024123</td>\n",
       "      <td>1.543860</td>\n",
       "    </tr>\n",
       "    <tr>\n",
       "      <th>std</th>\n",
       "      <td>NaN</td>\n",
       "      <td>1.467165e+05</td>\n",
       "      <td>733.671683</td>\n",
       "      <td>682.314665</td>\n",
       "      <td>630.957648</td>\n",
       "      <td>594.274063</td>\n",
       "      <td>550.253762</td>\n",
       "      <td>454.876444</td>\n",
       "      <td>418.192859</td>\n",
       "      <td>352.162408</td>\n",
       "      <td>NaN</td>\n",
       "      <td>0.849786</td>\n",
       "      <td>1.022950</td>\n",
       "      <td>0.799783</td>\n",
       "    </tr>\n",
       "    <tr>\n",
       "      <th>min</th>\n",
       "      <td>NaN</td>\n",
       "      <td>4.000000e+04</td>\n",
       "      <td>0.000000</td>\n",
       "      <td>0.000000</td>\n",
       "      <td>0.000000</td>\n",
       "      <td>0.000000</td>\n",
       "      <td>0.000000</td>\n",
       "      <td>0.000000</td>\n",
       "      <td>0.000000</td>\n",
       "      <td>0.000000</td>\n",
       "      <td>NaN</td>\n",
       "      <td>0.500000</td>\n",
       "      <td>0.750000</td>\n",
       "      <td>0.500000</td>\n",
       "    </tr>\n",
       "    <tr>\n",
       "      <th>25%</th>\n",
       "      <td>NaN</td>\n",
       "      <td>8.000000e+04</td>\n",
       "      <td>400.000000</td>\n",
       "      <td>372.000000</td>\n",
       "      <td>344.000000</td>\n",
       "      <td>324.000000</td>\n",
       "      <td>300.000000</td>\n",
       "      <td>248.000000</td>\n",
       "      <td>228.000000</td>\n",
       "      <td>192.000000</td>\n",
       "      <td>NaN</td>\n",
       "      <td>0.500000</td>\n",
       "      <td>0.750000</td>\n",
       "      <td>0.500000</td>\n",
       "    </tr>\n",
       "    <tr>\n",
       "      <th>50%</th>\n",
       "      <td>NaN</td>\n",
       "      <td>1.220000e+05</td>\n",
       "      <td>610.000000</td>\n",
       "      <td>567.300000</td>\n",
       "      <td>524.600000</td>\n",
       "      <td>494.100000</td>\n",
       "      <td>457.500000</td>\n",
       "      <td>378.200000</td>\n",
       "      <td>347.700000</td>\n",
       "      <td>292.800000</td>\n",
       "      <td>NaN</td>\n",
       "      <td>1.500000</td>\n",
       "      <td>2.250000</td>\n",
       "      <td>1.750000</td>\n",
       "    </tr>\n",
       "    <tr>\n",
       "      <th>75%</th>\n",
       "      <td>NaN</td>\n",
       "      <td>2.500000e+05</td>\n",
       "      <td>1250.000000</td>\n",
       "      <td>1162.500000</td>\n",
       "      <td>1075.000000</td>\n",
       "      <td>1012.500000</td>\n",
       "      <td>937.500000</td>\n",
       "      <td>775.000000</td>\n",
       "      <td>712.500000</td>\n",
       "      <td>600.000000</td>\n",
       "      <td>NaN</td>\n",
       "      <td>2.500000</td>\n",
       "      <td>2.500000</td>\n",
       "      <td>2.250000</td>\n",
       "    </tr>\n",
       "    <tr>\n",
       "      <th>max</th>\n",
       "      <td>NaN</td>\n",
       "      <td>3.600000e+06</td>\n",
       "      <td>18000.000000</td>\n",
       "      <td>16740.000000</td>\n",
       "      <td>15480.000000</td>\n",
       "      <td>14580.000000</td>\n",
       "      <td>13500.000000</td>\n",
       "      <td>11160.000000</td>\n",
       "      <td>10260.000000</td>\n",
       "      <td>8640.000000</td>\n",
       "      <td>NaN</td>\n",
       "      <td>2.750000</td>\n",
       "      <td>3.750000</td>\n",
       "      <td>3.000000</td>\n",
       "    </tr>\n",
       "  </tbody>\n",
       "</table>\n",
       "</div>"
      ],
      "text/plain": [
       "       Link for whatsapp  full price of car, euro  if 1-3 days\\ euro per day   \n",
       "count                0.0             1.755000e+03                1756.000000  \\\n",
       "mean                 NaN             1.753021e+05                 876.011390   \n",
       "std                  NaN             1.467165e+05                 733.671683   \n",
       "min                  NaN             4.000000e+04                   0.000000   \n",
       "25%                  NaN             8.000000e+04                 400.000000   \n",
       "50%                  NaN             1.220000e+05                 610.000000   \n",
       "75%                  NaN             2.500000e+05                1250.000000   \n",
       "max                  NaN             3.600000e+06               18000.000000   \n",
       "\n",
       "       if 4-6 days\\ euro per day  if 7-9 days\\ euro per day   \n",
       "count                1756.000000                1756.000000  \\\n",
       "mean                  814.690592                 753.369795   \n",
       "std                   682.314665                 630.957648   \n",
       "min                     0.000000                   0.000000   \n",
       "25%                   372.000000                 344.000000   \n",
       "50%                   567.300000                 524.600000   \n",
       "75%                  1162.500000                1075.000000   \n",
       "max                 16740.000000               15480.000000   \n",
       "\n",
       "       if 10-12 days\\ euro per day  if 13-15 days\\ euro per day   \n",
       "count                  1756.000000                  1756.000000  \\\n",
       "mean                    709.569226                   657.008542   \n",
       "std                     594.274063                   550.253762   \n",
       "min                       0.000000                     0.000000   \n",
       "25%                     324.000000                   300.000000   \n",
       "50%                     494.100000                   457.500000   \n",
       "75%                    1012.500000                   937.500000   \n",
       "max                   14580.000000                 13500.000000   \n",
       "\n",
       "       if 16-18 days\\ euro per day  if 19-23 days \\ euro per day   \n",
       "count                  1756.000000                   1756.000000  \\\n",
       "mean                    543.127062                    499.326492   \n",
       "std                     454.876444                    418.192859   \n",
       "min                       0.000000                      0.000000   \n",
       "25%                     248.000000                    228.000000   \n",
       "50%                     378.200000                    347.700000   \n",
       "75%                     775.000000                    712.500000   \n",
       "max                   11160.000000                  10260.000000   \n",
       "\n",
       "       if 24-31 days\\ euro per day  Additional info about car   \n",
       "count                  1756.000000                        0.0  \\\n",
       "mean                    420.485467                        NaN   \n",
       "std                     352.162408                        NaN   \n",
       "min                       0.000000                        NaN   \n",
       "25%                     192.000000                        NaN   \n",
       "50%                     292.800000                        NaN   \n",
       "75%                     600.000000                        NaN   \n",
       "max                    8640.000000                        NaN   \n",
       "\n",
       "       Reiting of trusting  Reiting of speed  Reiting of quality of servise  \n",
       "count           114.000000        114.000000                     114.000000  \n",
       "mean              1.563596          2.024123                       1.543860  \n",
       "std               0.849786          1.022950                       0.799783  \n",
       "min               0.500000          0.750000                       0.500000  \n",
       "25%               0.500000          0.750000                       0.500000  \n",
       "50%               1.500000          2.250000                       1.750000  \n",
       "75%               2.500000          2.500000                       2.250000  \n",
       "max               2.750000          3.750000                       3.000000  "
      ]
     },
     "execution_count": 344,
     "metadata": {},
     "output_type": "execute_result"
    }
   ],
   "source": [
    "#Describe data in the DataFrame\n",
    "df.describe()"
   ]
  },
  {
   "cell_type": "markdown",
   "id": "0a9a86fc",
   "metadata": {},
   "source": [
    "### Data Preparation"
   ]
  },
  {
   "cell_type": "code",
   "execution_count": 345,
   "id": "dfdb2986",
   "metadata": {},
   "outputs": [],
   "source": [
    "#Drop blank columns\n",
    "df.dropna(how='all', axis=1, inplace=True)\n",
    "#Drop duplicated rows\n",
    "df = df.drop_duplicates()"
   ]
  },
  {
   "cell_type": "code",
   "execution_count": 346,
   "id": "2296bfa1",
   "metadata": {},
   "outputs": [],
   "source": [
    "#Renaming table\n",
    "df['Rent euro\\per day'] =  df[\"if 1-3 days\\ euro per day\"]\n",
    "\n",
    "#creating unified column with relewand data\n",
    "df['json_text'] = df[[\"Brand\", \"Model\", \"Rent euro\\per day\", \"Locations\", \"Contact person\"]].apply(lambda x: x.to_json(), axis=1)"
   ]
  },
  {
   "cell_type": "markdown",
   "id": "e9efed4d",
   "metadata": {},
   "source": [
    "### Embeddings and Inexing"
   ]
  },
  {
   "cell_type": "code",
   "execution_count": 529,
   "id": "12488472",
   "metadata": {},
   "outputs": [
    {
     "name": "stderr",
     "output_type": "stream",
     "text": [
      "C:\\Users\\Asus\\anaconda3\\envs\\Work\\lib\\site-packages\\huggingface_hub\\file_download.py:1132: FutureWarning: `resume_download` is deprecated and will be removed in version 1.0.0. Downloads always resume when possible. If you want to force a new download, use `force_download=True`.\n",
      "  warnings.warn(\n"
     ]
    },
    {
     "data": {
      "application/vnd.jupyter.widget-view+json": {
       "model_id": "94f0c24341c84675a3bd14ea8bda530d",
       "version_major": 2,
       "version_minor": 0
      },
      "text/plain": [
       "Parsing nodes:   0%|          | 0/1748 [00:00<?, ?it/s]"
      ]
     },
     "metadata": {},
     "output_type": "display_data"
    },
    {
     "data": {
      "application/vnd.jupyter.widget-view+json": {
       "model_id": "27a36ccac358432fb7e48d52a1bfd7f7",
       "version_major": 2,
       "version_minor": 0
      },
      "text/plain": [
       "Generating embeddings:   0%|          | 0/1748 [00:00<?, ?it/s]"
      ]
     },
     "metadata": {},
     "output_type": "display_data"
    }
   ],
   "source": [
    "from llama_index.core import Document, VectorStoreIndex\n",
    "from llama_index.embeddings.huggingface import HuggingFaceEmbedding\n",
    "from llama_index.core import Settings\n",
    "\n",
    "#Importing model for data embedding\n",
    "embed_model = HuggingFaceEmbedding(\n",
    "    model_name=\"BAAI/bge-small-en-v1.5\"\n",
    ")\n",
    "\n",
    "#Preparing data - splitting it into a documents\n",
    "documents = [Document(text = t[1]['json_text']) for t in df.iterrows()]\n",
    "#creating Vector Index\n",
    "vector_index = VectorStoreIndex.from_documents(documents, embed_model=embed_model,show_progress=True)"
   ]
  },
  {
   "cell_type": "code",
   "execution_count": 474,
   "id": "c2e29668",
   "metadata": {},
   "outputs": [
    {
     "data": {
      "application/vnd.jupyter.widget-view+json": {
       "model_id": "b22c2618b84f4f0785de8cb29b405c34",
       "version_major": 2,
       "version_minor": 0
      },
      "text/plain": [
       "Parsing nodes:   0%|          | 0/1748 [00:00<?, ?it/s]"
      ]
     },
     "metadata": {},
     "output_type": "display_data"
    },
    {
     "data": {
      "application/vnd.jupyter.widget-view+json": {
       "model_id": "5c6f24dbcb614fd2a952b351ec17e605",
       "version_major": 2,
       "version_minor": 0
      },
      "text/plain": [
       "Generating summaries:   0%|          | 0/175 [00:00<?, ?it/s]"
      ]
     },
     "metadata": {},
     "output_type": "display_data"
    },
    {
     "data": {
      "application/vnd.jupyter.widget-view+json": {
       "model_id": "9806c59c9f9348d28e467a03d2646559",
       "version_major": 2,
       "version_minor": 0
      },
      "text/plain": [
       "Generating summaries:   0%|          | 0/18 [00:00<?, ?it/s]"
      ]
     },
     "metadata": {},
     "output_type": "display_data"
    },
    {
     "data": {
      "application/vnd.jupyter.widget-view+json": {
       "model_id": "3f10605ad987461b92a5d74f9d93747d",
       "version_major": 2,
       "version_minor": 0
      },
      "text/plain": [
       "Generating summaries:   0%|          | 0/2 [00:00<?, ?it/s]"
      ]
     },
     "metadata": {},
     "output_type": "display_data"
    }
   ],
   "source": [
    "from llama_index.core import Document, TreeIndex\n",
    "#creating Tree Index\n",
    "tree_index = TreeIndex.from_documents(documents, embed_model=embed_model,show_progress=True)"
   ]
  },
  {
   "cell_type": "code",
   "execution_count": 488,
   "id": "b2648d07",
   "metadata": {},
   "outputs": [
    {
     "data": {
      "application/vnd.jupyter.widget-view+json": {
       "model_id": "5b10ecfec88a40ba9b11282d02e1630d",
       "version_major": 2,
       "version_minor": 0
      },
      "text/plain": [
       "Parsing nodes:   0%|          | 0/1748 [00:00<?, ?it/s]"
      ]
     },
     "metadata": {},
     "output_type": "display_data"
    },
    {
     "data": {
      "application/vnd.jupyter.widget-view+json": {
       "model_id": "f34897bbabb24cb9a35f6af9c93a9265",
       "version_major": 2,
       "version_minor": 0
      },
      "text/plain": [
       "Extracting keywords from nodes:   0%|          | 0/1748 [00:00<?, ?it/s]"
      ]
     },
     "metadata": {},
     "output_type": "display_data"
    }
   ],
   "source": [
    "from llama_index.core import Document, KeywordTableIndex\n",
    "#creating Table Index\n",
    "table_index = KeywordTableIndex.from_documents(documents, embed_model=embed_model,show_progress=True)"
   ]
  },
  {
   "cell_type": "code",
   "execution_count": 497,
   "id": "e8ad2f29",
   "metadata": {},
   "outputs": [],
   "source": [
    "#Testing different Indexes to check their performance\n",
    "\n",
    "query_engine = table_index.as_query_engine(child_branch_factor=5)\n",
    "response = query_engine.query(\"Give me a list of 3 cars with lowest price in both locations.\")\n",
    "print(response)"
   ]
  },
  {
   "cell_type": "markdown",
   "id": "a128f462",
   "metadata": {},
   "source": [
    "The best Index was Table Index because it pick up specific keys pretty well and extract the most relevand data among all of tested Indexes."
   ]
  },
  {
   "cell_type": "markdown",
   "id": "9db295a6",
   "metadata": {},
   "source": [
    "### Storing and Loading the Index"
   ]
  },
  {
   "cell_type": "code",
   "execution_count": 524,
   "id": "cb75afdf",
   "metadata": {},
   "outputs": [],
   "source": [
    "#Mounting 'storage' folder and saving data\n",
    "table_index.storage_context.persist()"
   ]
  },
  {
   "cell_type": "code",
   "execution_count": 525,
   "id": "bd36adcc",
   "metadata": {},
   "outputs": [],
   "source": [
    "#Downloading saved data from storage\n",
    "from llama_index.core import StorageContext, load_index_from_storage\n",
    "\n",
    "storage_context = StorageContext.from_defaults(persist_dir=\"./storage\")\n",
    "index = load_index_from_storage(storage_context=storage_context)"
   ]
  },
  {
   "cell_type": "markdown",
   "id": "83d2a62c",
   "metadata": {},
   "source": [
    "### LLM Creation"
   ]
  },
  {
   "cell_type": "code",
   "execution_count": 86,
   "id": "dd9b0316",
   "metadata": {},
   "outputs": [],
   "source": [
    "import os\n",
    "\n",
    "#Specifying key for OpenAI model\n",
    "os.environ[\"OPENAI_API_KEY\"]=\"your-key\"\n",
    "\n",
    "#Specifying parameters for langchain connection\n",
    "os.environ[\"LANGCHAIN_TRACING_V2\"]='true'\n",
    "os.environ[\"LANGCHAIN_ENDPOINT\"]=\"https://api.smith.langchain.com\"\n",
    "os.environ[\"LANGCHAIN_API_KEY\"]=\"your-key\"\n",
    "os.environ[\"LANGCHAIN_PROJECT\"]=\"langsmith-car-bot\""
   ]
  },
  {
   "cell_type": "code",
   "execution_count": 553,
   "id": "15b9fd97",
   "metadata": {},
   "outputs": [],
   "source": [
    "from llama_index.core.memory import ChatMemoryBuffer\n",
    "from langchain_openai import ChatOpenAI\n",
    "\n",
    "llm = ChatOpenAI()\n",
    "#Creating memory for LLM model\n",
    "memory = ChatMemoryBuffer.from_defaults(token_limit=2000)\n",
    "\n",
    "#Specifying prompt\n",
    "chat_engine = index.as_chat_engine(\n",
    "    chat_mode=\"context\",\n",
    "    llm=llm,\n",
    "    memory=memory,\n",
    "    system_prompt=(\n",
    "        \"Given a conversation (between Human and Assistant) and a follow up question from Human, \\\n",
    "        answer the question using the data, return ALL data about relevand cars AS A TABLE. \\\n",
    "        If input irrelevant write that there are no cars with such inputs.\"\n",
    "    ),\n",
    ")"
   ]
  },
  {
   "cell_type": "code",
   "execution_count": 557,
   "id": "ee16fef7",
   "metadata": {},
   "outputs": [],
   "source": [
    "response = chat_engine.chat(\"List me SUV in Italy.\")"
   ]
  },
  {
   "cell_type": "code",
   "execution_count": 559,
   "id": "ad331035",
   "metadata": {},
   "outputs": [
    {
     "name": "stdout",
     "output_type": "stream",
     "text": [
      "| Brand    | Model               | Rent euro\\\\per day | Locations            | Contact person      |\n",
      "|----------|---------------------|--------------------|----------------------|---------------------|\n",
      "| Mercedes | GLE400 SUV          | 700                | Roma, Italy          | Corry Lacopo       |\n",
      "| Mercedes | GLE 350de Automatic 4Matic | 450         | Roma, Italy          | Gabriele           |\n"
     ]
    }
   ],
   "source": [
    "print(response)"
   ]
  },
  {
   "cell_type": "code",
   "execution_count": 551,
   "id": "2bed70b2",
   "metadata": {},
   "outputs": [],
   "source": [
    "#Clearing all history\n",
    "chat_engine.reset()"
   ]
  },
  {
   "cell_type": "code",
   "execution_count": null,
   "id": "9e9b485d",
   "metadata": {},
   "outputs": [],
   "source": []
  }
 ],
 "metadata": {
  "kernelspec": {
   "display_name": "Python 3 (ipykernel)",
   "language": "python",
   "name": "python3"
  },
  "language_info": {
   "codemirror_mode": {
    "name": "ipython",
    "version": 3
   },
   "file_extension": ".py",
   "mimetype": "text/x-python",
   "name": "python",
   "nbconvert_exporter": "python",
   "pygments_lexer": "ipython3",
   "version": "3.9.16"
  }
 },
 "nbformat": 4,
 "nbformat_minor": 5
}
